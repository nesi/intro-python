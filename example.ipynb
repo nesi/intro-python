# Introduction to Python

## Hello, World!
print("Hello, World!")

## Variables and Data Types
# Integer
x = 10
print(x)

# Float
y = 3.14
print(y)

# String
name = "John Doe"
print(name)

## Arithmetic Operations
a = 5
b = 3

# Addition
sum = a + b
print("Sum:", sum)

# Subtraction
diff = a - b
print("Difference:", diff)

# Multiplication
product = a * b
print("Product:", product)

# Division
quotient = a / b
print("Quotient:", quotient)

# Modulo
remainder = a % b
print("Remainder:", remainder)

## Control Flow
# If-else statement
if a > b:
    print("a is greater than b")
else:
    print("b is greater than or equal to a")

# For loop
for i in range(5):
    print(i)

# While loop
count = 0
while count < 5:
    print(count)
    count += 1

## Functions
# Function definition
def greet(name):
    print("Hello,", name)

# Function call
greet("Alice")

## Lists
fruits = ["apple", "banana", "cherry"]

# Accessing elements
print(fruits[0])  # apple

# Modifying elements
fruits[1] = "orange"
print(fruits)  # ['apple', 'orange', 'cherry']

# Adding elements
fruits.append("grape")
print(fruits)  # ['apple', 'orange', 'cherry', 'grape']

# Removing elements
fruits.remove("cherry")
print(fruits)  # ['apple', 'orange', 'grape']

## Dictionaries
student = {
    "name": "John Doe",
    "age": 20,
    "major": "Computer Science"
}

# Accessing values
print(student["name"])  # John Doe

# Modifying values
student["age"] = 21
print(student)  # {'name': 'John Doe', 'age': 21, 'major': 'Computer Science'}

# Adding new key-value pairs
student["university"] = "ABC University"
print(student)  # {'name': 'John Doe', 'age': 21, 'major': 'Computer Science', 'university': 'ABC University'}

# Removing key-value pairs
del student["major"]
print(student)  # {'name': 'John Doe', 'age': 21, 'university': 'ABC University'}
