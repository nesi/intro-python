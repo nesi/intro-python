{
 "cells": [
  {
   "cell_type": "markdown",
   "id": "5803871d-7240-4f90-a45a-7b64d2648e44",
   "metadata": {},
   "source": [
    "# Introduction to Python\n",
    "First Steps in writing Python code in a Notebook"
   ]
  },
  {
   "cell_type": "code",
   "execution_count": 1,
   "id": "ce3dc922-bff9-4e94-9f32-37d4ce633f60",
   "metadata": {
    "tags": []
   },
   "outputs": [
    {
     "data": {
      "text/plain": [
       "2"
      ]
     },
     "execution_count": 1,
     "metadata": {},
     "output_type": "execute_result"
    }
   ],
   "source": [
    "# code block\n",
    "1 + 1"
   ]
  },
  {
   "cell_type": "code",
   "execution_count": null,
   "id": "1229565d-9e04-4fd3-ba50-bf6006959568",
   "metadata": {},
   "outputs": [],
   "source": []
  }
 ],
 "metadata": {
  "kernelspec": {
   "display_name": "tf_kernel5",
   "language": "python",
   "name": "tf_kernel5"
  },
  "language_info": {
   "codemirror_mode": {
    "name": "ipython",
    "version": 3
   },
   "file_extension": ".py",
   "mimetype": "text/x-python",
   "name": "python",
   "nbconvert_exporter": "python",
   "pygments_lexer": "ipython3",
   "version": "3.11.3"
  }
 },
 "nbformat": 4,
 "nbformat_minor": 5
}
